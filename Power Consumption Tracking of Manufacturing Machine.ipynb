{
 "cells": [
  {
   "cell_type": "markdown",
   "metadata": {},
   "source": [
    "# Activating the Desired Environment"
   ]
  },
  {
   "cell_type": "code",
   "execution_count": 1,
   "metadata": {},
   "outputs": [
    {
     "name": "stdout",
     "output_type": "stream",
     "text": [
      "\n",
      "Note: you may need to restart the kernel to use updated packages.\n"
     ]
    }
   ],
   "source": [
    "conda activate datascience"
   ]
  },
  {
   "cell_type": "markdown",
   "metadata": {},
   "source": [
    "# Import the file and basic library\n"
   ]
  },
  {
   "cell_type": "code",
   "execution_count": 1,
   "metadata": {},
   "outputs": [],
   "source": [
    "import pandas as pd\n",
    "import numpy as np\n",
    "import scipy.stats as stats\n",
    "\n",
    "import matplotlib.pyplot as plt\n",
    "import seaborn as sns\n",
    "sns.set()"
   ]
  },
  {
   "cell_type": "code",
   "execution_count": 2,
   "metadata": {},
   "outputs": [],
   "source": [
    "machine_data = pd.read_excel(r'D:\\Disk_Drive\\DocumentsBuckUp\\360DigiDataScience\\CapstoneIV\\Finaldata.xlsx', 'Sheet1', usecols='A:S',engine='openpyxl')"
   ]
  },
  {
   "cell_type": "markdown",
   "metadata": {},
   "source": [
    "# Check the Machine Data Shape and Missing Values"
   ]
  },
  {
   "cell_type": "code",
   "execution_count": 3,
   "metadata": {},
   "outputs": [
    {
     "name": "stderr",
     "output_type": "stream",
     "text": [
      "C:\\Users\\ASHNER_NOVILLA\\anaconda3\\envs\\datascience\\lib\\site-packages\\ipykernel_launcher.py:3: FutureWarning: DataFrame.mean and DataFrame.median with numeric_only=None will include datetime64 and datetime64tz columns in a future version.\n",
      "  This is separate from the ipykernel package so we can avoid doing imports until\n",
      "C:\\Users\\ASHNER_NOVILLA\\anaconda3\\envs\\datascience\\lib\\site-packages\\ipykernel_launcher.py:6: FutureWarning: DataFrame.mean and DataFrame.median with numeric_only=None will include datetime64 and datetime64tz columns in a future version.\n",
      "  \n"
     ]
    }
   ],
   "source": [
    "machine_data.shape\n",
    "\n",
    "machine_data_median = pd.DataFrame(machine_data.median())\n",
    "machine_data_median = machine_data_median.rename({0:\"Median\"}, axis=1)\n",
    "\n",
    "machine_data_mean = pd.DataFrame(machine_data.mean())\n",
    "machine_data_mean = machine_data_mean.rename({0:\"Mean\"}, axis=1)\n",
    "\n",
    "machine_data_dist = pd.concat([machine_data_mean, machine_data_median],axis=1)\n",
    "machine_data_dist['Subtract'] = machine_data_dist['Mean'] - machine_data_dist['Median']\n",
    "\n",
    "# Delete unused variables\n",
    "del(machine_data_mean)\n",
    "del(machine_data_median)"
   ]
  },
  {
   "cell_type": "code",
   "execution_count": 4,
   "metadata": {},
   "outputs": [
    {
     "name": "stdout",
     "output_type": "stream",
     "text": [
      "                Mean      Median  Subtract\n",
      "M1HP1       2.208726    2.208888 -0.000162\n",
      "M2HP1       2.208299    2.207932  0.000367\n",
      "M3HP1       2.208147    2.207277  0.000870\n",
      "M4HP1       2.208639    2.208818 -0.000179\n",
      "M5HP1       2.208664    2.208775 -0.000111\n",
      "M6HP1       2.207570    2.207514  0.000056\n",
      "M7HP1       2.208096    2.207518  0.000578\n",
      "M8HP7      15.594080   15.592334  0.001746\n",
      "M9HP48    107.071423  107.099452 -0.028029\n",
      "M10HP3      6.680506    6.679588  0.000918\n",
      "M11HP3      6.680754    6.679239  0.001515\n",
      "M12HP7     15.591082   15.588378  0.002704\n",
      "M13HP19    42.359144   42.364037 -0.004893\n",
      "FWB        17.930070   17.926620  0.003449\n",
      "OC         59.792176   59.788066  0.004110\n",
      "BBCM        2.986639    2.986804 -0.000165\n",
      "allsum    290.144014  290.147658 -0.003644\n",
      "Allplant  290.510185  290.498000  0.012185\n"
     ]
    }
   ],
   "source": [
    "print(machine_data_dist)\n",
    "# As we can observed that the mean and median does not differ widely from one another\n",
    "# We can say that there is no outlier on our dataset"
   ]
  },
  {
   "cell_type": "code",
   "execution_count": 5,
   "metadata": {},
   "outputs": [
    {
     "data": {
      "text/plain": [
       "Timestamp    0\n",
       "M1HP1        0\n",
       "M2HP1        0\n",
       "M3HP1        0\n",
       "M4HP1        0\n",
       "M5HP1        0\n",
       "M6HP1        0\n",
       "M7HP1        0\n",
       "M8HP7        0\n",
       "M9HP48       0\n",
       "M10HP3       0\n",
       "M11HP3       0\n",
       "M12HP7       0\n",
       "M13HP19      0\n",
       "FWB          0\n",
       "OC           0\n",
       "BBCM         0\n",
       "allsum       0\n",
       "Allplant     0\n",
       "dtype: int64"
      ]
     },
     "execution_count": 5,
     "metadata": {},
     "output_type": "execute_result"
    }
   ],
   "source": [
    "machine_data.isna().sum()\n",
    "# It can be observed that there is no missing data on the dataset"
   ]
  },
  {
   "cell_type": "code",
   "execution_count": 6,
   "metadata": {},
   "outputs": [
    {
     "data": {
      "text/html": [
       "<div>\n",
       "<style scoped>\n",
       "    .dataframe tbody tr th:only-of-type {\n",
       "        vertical-align: middle;\n",
       "    }\n",
       "\n",
       "    .dataframe tbody tr th {\n",
       "        vertical-align: top;\n",
       "    }\n",
       "\n",
       "    .dataframe thead th {\n",
       "        text-align: right;\n",
       "    }\n",
       "</style>\n",
       "<table border=\"1\" class=\"dataframe\">\n",
       "  <thead>\n",
       "    <tr style=\"text-align: right;\">\n",
       "      <th></th>\n",
       "      <th>M1HP1</th>\n",
       "      <th>M2HP1</th>\n",
       "      <th>M3HP1</th>\n",
       "      <th>M4HP1</th>\n",
       "      <th>M5HP1</th>\n",
       "      <th>M6HP1</th>\n",
       "      <th>M7HP1</th>\n",
       "      <th>M8HP7</th>\n",
       "      <th>M9HP48</th>\n",
       "      <th>M10HP3</th>\n",
       "      <th>M11HP3</th>\n",
       "      <th>M12HP7</th>\n",
       "      <th>M13HP19</th>\n",
       "      <th>FWB</th>\n",
       "      <th>OC</th>\n",
       "      <th>BBCM</th>\n",
       "      <th>allsum</th>\n",
       "      <th>Allplant</th>\n",
       "    </tr>\n",
       "  </thead>\n",
       "  <tbody>\n",
       "    <tr>\n",
       "      <th>count</th>\n",
       "      <td>18000.000000</td>\n",
       "      <td>18000.000000</td>\n",
       "      <td>18000.000000</td>\n",
       "      <td>18000.000000</td>\n",
       "      <td>18000.000000</td>\n",
       "      <td>18000.000000</td>\n",
       "      <td>18000.000000</td>\n",
       "      <td>18000.000000</td>\n",
       "      <td>18000.000000</td>\n",
       "      <td>18000.000000</td>\n",
       "      <td>18000.000000</td>\n",
       "      <td>18000.000000</td>\n",
       "      <td>18000.000000</td>\n",
       "      <td>18000.000000</td>\n",
       "      <td>18000.000000</td>\n",
       "      <td>18000.000000</td>\n",
       "      <td>18000.000000</td>\n",
       "      <td>18000.000000</td>\n",
       "    </tr>\n",
       "    <tr>\n",
       "      <th>mean</th>\n",
       "      <td>2.208726</td>\n",
       "      <td>2.208299</td>\n",
       "      <td>2.208147</td>\n",
       "      <td>2.208639</td>\n",
       "      <td>2.208664</td>\n",
       "      <td>2.207570</td>\n",
       "      <td>2.208096</td>\n",
       "      <td>15.594080</td>\n",
       "      <td>107.071423</td>\n",
       "      <td>6.680506</td>\n",
       "      <td>6.680754</td>\n",
       "      <td>15.591082</td>\n",
       "      <td>42.359144</td>\n",
       "      <td>17.930070</td>\n",
       "      <td>59.792176</td>\n",
       "      <td>2.986639</td>\n",
       "      <td>290.144014</td>\n",
       "      <td>290.510185</td>\n",
       "    </tr>\n",
       "    <tr>\n",
       "      <th>std</th>\n",
       "      <td>0.040056</td>\n",
       "      <td>0.040039</td>\n",
       "      <td>0.039893</td>\n",
       "      <td>0.040017</td>\n",
       "      <td>0.040060</td>\n",
       "      <td>0.040018</td>\n",
       "      <td>0.040206</td>\n",
       "      <td>0.296007</td>\n",
       "      <td>1.986624</td>\n",
       "      <td>0.119944</td>\n",
       "      <td>0.120559</td>\n",
       "      <td>0.296429</td>\n",
       "      <td>0.780258</td>\n",
       "      <td>0.329756</td>\n",
       "      <td>1.110722</td>\n",
       "      <td>0.055695</td>\n",
       "      <td>2.478349</td>\n",
       "      <td>8.335886</td>\n",
       "    </tr>\n",
       "    <tr>\n",
       "      <th>min</th>\n",
       "      <td>2.138893</td>\n",
       "      <td>2.138907</td>\n",
       "      <td>2.138891</td>\n",
       "      <td>2.138898</td>\n",
       "      <td>2.138899</td>\n",
       "      <td>2.138900</td>\n",
       "      <td>2.138900</td>\n",
       "      <td>15.083334</td>\n",
       "      <td>103.611113</td>\n",
       "      <td>6.472229</td>\n",
       "      <td>6.472270</td>\n",
       "      <td>15.083362</td>\n",
       "      <td>41.000263</td>\n",
       "      <td>17.361140</td>\n",
       "      <td>57.861327</td>\n",
       "      <td>2.888889</td>\n",
       "      <td>282.901841</td>\n",
       "      <td>276.000000</td>\n",
       "    </tr>\n",
       "    <tr>\n",
       "      <th>25%</th>\n",
       "      <td>2.174031</td>\n",
       "      <td>2.174043</td>\n",
       "      <td>2.173672</td>\n",
       "      <td>2.174156</td>\n",
       "      <td>2.173721</td>\n",
       "      <td>2.173061</td>\n",
       "      <td>2.173070</td>\n",
       "      <td>15.338049</td>\n",
       "      <td>105.341544</td>\n",
       "      <td>6.576989</td>\n",
       "      <td>6.575960</td>\n",
       "      <td>15.337038</td>\n",
       "      <td>41.680041</td>\n",
       "      <td>17.645081</td>\n",
       "      <td>58.836799</td>\n",
       "      <td>2.938995</td>\n",
       "      <td>288.335711</td>\n",
       "      <td>283.314750</td>\n",
       "    </tr>\n",
       "    <tr>\n",
       "      <th>50%</th>\n",
       "      <td>2.208888</td>\n",
       "      <td>2.207932</td>\n",
       "      <td>2.207277</td>\n",
       "      <td>2.208818</td>\n",
       "      <td>2.208775</td>\n",
       "      <td>2.207514</td>\n",
       "      <td>2.207518</td>\n",
       "      <td>15.592334</td>\n",
       "      <td>107.099452</td>\n",
       "      <td>6.679588</td>\n",
       "      <td>6.679239</td>\n",
       "      <td>15.588378</td>\n",
       "      <td>42.364037</td>\n",
       "      <td>17.926620</td>\n",
       "      <td>59.788066</td>\n",
       "      <td>2.986804</td>\n",
       "      <td>290.147658</td>\n",
       "      <td>290.498000</td>\n",
       "    </tr>\n",
       "    <tr>\n",
       "      <th>75%</th>\n",
       "      <td>2.243613</td>\n",
       "      <td>2.243221</td>\n",
       "      <td>2.242614</td>\n",
       "      <td>2.243193</td>\n",
       "      <td>2.243189</td>\n",
       "      <td>2.241295</td>\n",
       "      <td>2.242942</td>\n",
       "      <td>15.850040</td>\n",
       "      <td>108.796389</td>\n",
       "      <td>6.784864</td>\n",
       "      <td>6.786241</td>\n",
       "      <td>15.843565</td>\n",
       "      <td>43.030151</td>\n",
       "      <td>18.215886</td>\n",
       "      <td>60.751309</td>\n",
       "      <td>3.034004</td>\n",
       "      <td>291.960595</td>\n",
       "      <td>297.676500</td>\n",
       "    </tr>\n",
       "    <tr>\n",
       "      <th>max</th>\n",
       "      <td>2.277766</td>\n",
       "      <td>2.277771</td>\n",
       "      <td>2.277774</td>\n",
       "      <td>2.277776</td>\n",
       "      <td>2.277776</td>\n",
       "      <td>2.277777</td>\n",
       "      <td>2.277730</td>\n",
       "      <td>16.111109</td>\n",
       "      <td>110.499856</td>\n",
       "      <td>6.888863</td>\n",
       "      <td>6.888870</td>\n",
       "      <td>16.110874</td>\n",
       "      <td>43.722219</td>\n",
       "      <td>18.499997</td>\n",
       "      <td>61.721935</td>\n",
       "      <td>3.083322</td>\n",
       "      <td>297.436367</td>\n",
       "      <td>304.997000</td>\n",
       "    </tr>\n",
       "  </tbody>\n",
       "</table>\n",
       "</div>"
      ],
      "text/plain": [
       "              M1HP1         M2HP1         M3HP1         M4HP1         M5HP1  \\\n",
       "count  18000.000000  18000.000000  18000.000000  18000.000000  18000.000000   \n",
       "mean       2.208726      2.208299      2.208147      2.208639      2.208664   \n",
       "std        0.040056      0.040039      0.039893      0.040017      0.040060   \n",
       "min        2.138893      2.138907      2.138891      2.138898      2.138899   \n",
       "25%        2.174031      2.174043      2.173672      2.174156      2.173721   \n",
       "50%        2.208888      2.207932      2.207277      2.208818      2.208775   \n",
       "75%        2.243613      2.243221      2.242614      2.243193      2.243189   \n",
       "max        2.277766      2.277771      2.277774      2.277776      2.277776   \n",
       "\n",
       "              M6HP1         M7HP1         M8HP7        M9HP48        M10HP3  \\\n",
       "count  18000.000000  18000.000000  18000.000000  18000.000000  18000.000000   \n",
       "mean       2.207570      2.208096     15.594080    107.071423      6.680506   \n",
       "std        0.040018      0.040206      0.296007      1.986624      0.119944   \n",
       "min        2.138900      2.138900     15.083334    103.611113      6.472229   \n",
       "25%        2.173061      2.173070     15.338049    105.341544      6.576989   \n",
       "50%        2.207514      2.207518     15.592334    107.099452      6.679588   \n",
       "75%        2.241295      2.242942     15.850040    108.796389      6.784864   \n",
       "max        2.277777      2.277730     16.111109    110.499856      6.888863   \n",
       "\n",
       "             M11HP3        M12HP7       M13HP19           FWB            OC  \\\n",
       "count  18000.000000  18000.000000  18000.000000  18000.000000  18000.000000   \n",
       "mean       6.680754     15.591082     42.359144     17.930070     59.792176   \n",
       "std        0.120559      0.296429      0.780258      0.329756      1.110722   \n",
       "min        6.472270     15.083362     41.000263     17.361140     57.861327   \n",
       "25%        6.575960     15.337038     41.680041     17.645081     58.836799   \n",
       "50%        6.679239     15.588378     42.364037     17.926620     59.788066   \n",
       "75%        6.786241     15.843565     43.030151     18.215886     60.751309   \n",
       "max        6.888870     16.110874     43.722219     18.499997     61.721935   \n",
       "\n",
       "               BBCM        allsum      Allplant  \n",
       "count  18000.000000  18000.000000  18000.000000  \n",
       "mean       2.986639    290.144014    290.510185  \n",
       "std        0.055695      2.478349      8.335886  \n",
       "min        2.888889    282.901841    276.000000  \n",
       "25%        2.938995    288.335711    283.314750  \n",
       "50%        2.986804    290.147658    290.498000  \n",
       "75%        3.034004    291.960595    297.676500  \n",
       "max        3.083322    297.436367    304.997000  "
      ]
     },
     "execution_count": 6,
     "metadata": {},
     "output_type": "execute_result"
    }
   ],
   "source": [
    "# Checking the Central Tendency and Data Dispersion\n",
    "machine_data.describe()\n",
    "# It can also observed that the min and max is not far away from the mean and \n",
    "# therefore the data is not widely disperse"
   ]
  },
  {
   "cell_type": "markdown",
   "metadata": {},
   "source": [
    "# Check the if the data is normal distribution using shapiro test"
   ]
  },
  {
   "cell_type": "code",
   "execution_count": 7,
   "metadata": {},
   "outputs": [
    {
     "name": "stderr",
     "output_type": "stream",
     "text": [
      "C:\\Users\\ASHNER_NOVILLA\\AppData\\Roaming\\Python\\Python37\\site-packages\\scipy\\stats\\morestats.py:1760: UserWarning: p-value may not be accurate for N > 5000.\n",
      "  warnings.warn(\"p-value may not be accurate for N > 5000.\")\n"
     ]
    }
   ],
   "source": [
    "df_stat_shapiro = []\n",
    "column = []\n",
    "status=[]\n",
    "\n",
    "for col in machine_data.iloc[:,1:].columns:\n",
    "    # print(col)\n",
    "    stat_shapiro = stats.shapiro(machine_data[col])\n",
    "    # print(stat_shapiro)\n",
    "    df_stat_shapiro.append(stat_shapiro[1])\n",
    "    column.append(col)\n",
    "    \n",
    "    if stat_shapiro[1] > 0.05:\n",
    "        x = 0\n",
    "    else:\n",
    "        x = 1    \n",
    "    status.append(x)\n",
    "\n",
    "del(stat_shapiro)\n",
    "del(col)\n",
    "del(x)\n",
    "\n",
    "df_stat_shapiro = pd.DataFrame(df_stat_shapiro, columns=[\"Shapiro_Test\"])\n",
    "column = pd.DataFrame(column)\n",
    "df_stat_shapiro['columns'] = column\n",
    "df_stat_shapiro[\"Status\"] = status\n",
    "df_stat_shapiro[\"Status\"] = df_stat_shapiro.Status.replace(1,\"Probably Not Gaussian\")\n",
    "df_stat_shapiro[\"Status\"] = df_stat_shapiro.Status.replace(0,\"Probably Gaussian\")\n",
    "\n",
    "del(column)\n",
    "del(status)"
   ]
  },
  {
   "cell_type": "code",
   "execution_count": 8,
   "metadata": {},
   "outputs": [
    {
     "name": "stdout",
     "output_type": "stream",
     "text": [
      "    Shapiro_Test   columns                 Status\n",
      "0   0.000000e+00     M1HP1  Probably Not Gaussian\n",
      "1   0.000000e+00     M2HP1  Probably Not Gaussian\n",
      "2   0.000000e+00     M3HP1  Probably Not Gaussian\n",
      "3   0.000000e+00     M4HP1  Probably Not Gaussian\n",
      "4   0.000000e+00     M5HP1  Probably Not Gaussian\n",
      "5   0.000000e+00     M6HP1  Probably Not Gaussian\n",
      "6   0.000000e+00     M7HP1  Probably Not Gaussian\n",
      "7   0.000000e+00     M8HP7  Probably Not Gaussian\n",
      "8   0.000000e+00    M9HP48  Probably Not Gaussian\n",
      "9   0.000000e+00    M10HP3  Probably Not Gaussian\n",
      "10  0.000000e+00    M11HP3  Probably Not Gaussian\n",
      "11  0.000000e+00    M12HP7  Probably Not Gaussian\n",
      "12  0.000000e+00   M13HP19  Probably Not Gaussian\n",
      "13  0.000000e+00       FWB  Probably Not Gaussian\n",
      "14  0.000000e+00        OC  Probably Not Gaussian\n",
      "15  0.000000e+00      BBCM  Probably Not Gaussian\n",
      "16  5.771626e-24    allsum  Probably Not Gaussian\n",
      "17  0.000000e+00  Allplant  Probably Not Gaussian\n"
     ]
    }
   ],
   "source": [
    "print(df_stat_shapiro)\n",
    "# As we can observed that the Shapiro Test Value < P-Value of 0.05 and 0.01 so we can say that \n",
    "# time series data is not following  gaussian distribution.\n",
    "# Therefore the researcher need to use a predictive tool that does not based its forecast on \n",
    "# Gaussian distribution only"
   ]
  },
  {
   "cell_type": "markdown",
   "metadata": {},
   "source": [
    "# Check the if the data is stationary or not using Adfuller Test"
   ]
  },
  {
   "cell_type": "code",
   "execution_count": 9,
   "metadata": {},
   "outputs": [
    {
     "name": "stdout",
     "output_type": "stream",
     "text": [
      "Results of Dickey-Fuller Test:\n",
      "Test Statistic                  -133.261094\n",
      "p-value                            0.000000\n",
      "#Lags Used                         0.000000\n",
      "Number of Observations Used    17999.000000\n",
      "Critical Value (1%)               -3.430713\n",
      "Critical Value (5%)               -2.861701\n",
      "Critical Value (10%)              -2.566855\n",
      "dtype: float64\n",
      "Reject Ho - Time Series is Stationary\n",
      "Results of Dickey-Fuller Test:\n",
      "Test Statistic                  -134.164800\n",
      "p-value                            0.000000\n",
      "#Lags Used                         0.000000\n",
      "Number of Observations Used    17999.000000\n",
      "Critical Value (1%)               -3.430713\n",
      "Critical Value (5%)               -2.861701\n",
      "Critical Value (10%)              -2.566855\n",
      "dtype: float64\n",
      "Reject Ho - Time Series is Stationary\n",
      "Results of Dickey-Fuller Test:\n",
      "Test Statistic                  -134.309346\n",
      "p-value                            0.000000\n",
      "#Lags Used                         0.000000\n",
      "Number of Observations Used    17999.000000\n",
      "Critical Value (1%)               -3.430713\n",
      "Critical Value (5%)               -2.861701\n",
      "Critical Value (10%)              -2.566855\n",
      "dtype: float64\n",
      "Reject Ho - Time Series is Stationary\n",
      "Results of Dickey-Fuller Test:\n",
      "Test Statistic                   -93.481949\n",
      "p-value                            0.000000\n",
      "#Lags Used                         1.000000\n",
      "Number of Observations Used    17998.000000\n",
      "Critical Value (1%)               -3.430713\n",
      "Critical Value (5%)               -2.861701\n",
      "Critical Value (10%)              -2.566855\n",
      "dtype: float64\n",
      "Reject Ho - Time Series is Stationary\n",
      "Results of Dickey-Fuller Test:\n",
      "Test Statistic                  -134.018812\n",
      "p-value                            0.000000\n",
      "#Lags Used                         0.000000\n",
      "Number of Observations Used    17999.000000\n",
      "Critical Value (1%)               -3.430713\n",
      "Critical Value (5%)               -2.861701\n",
      "Critical Value (10%)              -2.566855\n",
      "dtype: float64\n",
      "Reject Ho - Time Series is Stationary\n",
      "Results of Dickey-Fuller Test:\n",
      "Test Statistic                  -134.532129\n",
      "p-value                            0.000000\n",
      "#Lags Used                         0.000000\n",
      "Number of Observations Used    17999.000000\n",
      "Critical Value (1%)               -3.430713\n",
      "Critical Value (5%)               -2.861701\n",
      "Critical Value (10%)              -2.566855\n",
      "dtype: float64\n",
      "Reject Ho - Time Series is Stationary\n",
      "Results of Dickey-Fuller Test:\n",
      "Test Statistic                   -93.713570\n",
      "p-value                            0.000000\n",
      "#Lags Used                         1.000000\n",
      "Number of Observations Used    17998.000000\n",
      "Critical Value (1%)               -3.430713\n",
      "Critical Value (5%)               -2.861701\n",
      "Critical Value (10%)              -2.566855\n",
      "dtype: float64\n",
      "Reject Ho - Time Series is Stationary\n",
      "Results of Dickey-Fuller Test:\n",
      "Test Statistic                  -135.701171\n",
      "p-value                            0.000000\n",
      "#Lags Used                         0.000000\n",
      "Number of Observations Used    17999.000000\n",
      "Critical Value (1%)               -3.430713\n",
      "Critical Value (5%)               -2.861701\n",
      "Critical Value (10%)              -2.566855\n",
      "dtype: float64\n",
      "Reject Ho - Time Series is Stationary\n",
      "Results of Dickey-Fuller Test:\n",
      "Test Statistic                  -134.103614\n",
      "p-value                            0.000000\n",
      "#Lags Used                         0.000000\n",
      "Number of Observations Used    17999.000000\n",
      "Critical Value (1%)               -3.430713\n",
      "Critical Value (5%)               -2.861701\n",
      "Critical Value (10%)              -2.566855\n",
      "dtype: float64\n",
      "Reject Ho - Time Series is Stationary\n",
      "Results of Dickey-Fuller Test:\n",
      "Test Statistic                   -60.995948\n",
      "p-value                            0.000000\n",
      "#Lags Used                         4.000000\n",
      "Number of Observations Used    17995.000000\n",
      "Critical Value (1%)               -3.430713\n",
      "Critical Value (5%)               -2.861701\n",
      "Critical Value (10%)              -2.566855\n",
      "dtype: float64\n",
      "Reject Ho - Time Series is Stationary\n",
      "Results of Dickey-Fuller Test:\n",
      "Test Statistic                  -134.562652\n",
      "p-value                            0.000000\n",
      "#Lags Used                         0.000000\n",
      "Number of Observations Used    17999.000000\n",
      "Critical Value (1%)               -3.430713\n",
      "Critical Value (5%)               -2.861701\n",
      "Critical Value (10%)              -2.566855\n",
      "dtype: float64\n",
      "Reject Ho - Time Series is Stationary\n",
      "Results of Dickey-Fuller Test:\n",
      "Test Statistic                   -78.877389\n",
      "p-value                            0.000000\n",
      "#Lags Used                         2.000000\n",
      "Number of Observations Used    17997.000000\n",
      "Critical Value (1%)               -3.430713\n",
      "Critical Value (5%)               -2.861701\n",
      "Critical Value (10%)              -2.566855\n",
      "dtype: float64\n",
      "Reject Ho - Time Series is Stationary\n",
      "Results of Dickey-Fuller Test:\n",
      "Test Statistic                  -134.025241\n",
      "p-value                            0.000000\n",
      "#Lags Used                         0.000000\n",
      "Number of Observations Used    17999.000000\n",
      "Critical Value (1%)               -3.430713\n",
      "Critical Value (5%)               -2.861701\n",
      "Critical Value (10%)              -2.566855\n",
      "dtype: float64\n",
      "Reject Ho - Time Series is Stationary\n",
      "Results of Dickey-Fuller Test:\n",
      "Test Statistic                  -134.157828\n",
      "p-value                            0.000000\n",
      "#Lags Used                         0.000000\n",
      "Number of Observations Used    17999.000000\n",
      "Critical Value (1%)               -3.430713\n",
      "Critical Value (5%)               -2.861701\n",
      "Critical Value (10%)              -2.566855\n",
      "dtype: float64\n",
      "Reject Ho - Time Series is Stationary\n",
      "Results of Dickey-Fuller Test:\n",
      "Test Statistic                  -133.093895\n",
      "p-value                            0.000000\n",
      "#Lags Used                         0.000000\n",
      "Number of Observations Used    17999.000000\n",
      "Critical Value (1%)               -3.430713\n",
      "Critical Value (5%)               -2.861701\n",
      "Critical Value (10%)              -2.566855\n",
      "dtype: float64\n",
      "Reject Ho - Time Series is Stationary\n",
      "Results of Dickey-Fuller Test:\n",
      "Test Statistic                  -134.789800\n",
      "p-value                            0.000000\n",
      "#Lags Used                         0.000000\n",
      "Number of Observations Used    17999.000000\n",
      "Critical Value (1%)               -3.430713\n",
      "Critical Value (5%)               -2.861701\n",
      "Critical Value (10%)              -2.566855\n",
      "dtype: float64\n",
      "Reject Ho - Time Series is Stationary\n",
      "Results of Dickey-Fuller Test:\n",
      "Test Statistic                  -132.910878\n",
      "p-value                            0.000000\n",
      "#Lags Used                         0.000000\n",
      "Number of Observations Used    17999.000000\n",
      "Critical Value (1%)               -3.430713\n",
      "Critical Value (5%)               -2.861701\n",
      "Critical Value (10%)              -2.566855\n",
      "dtype: float64\n",
      "Reject Ho - Time Series is Stationary\n",
      "Results of Dickey-Fuller Test:\n",
      "Test Statistic                  -135.467888\n",
      "p-value                            0.000000\n",
      "#Lags Used                         0.000000\n",
      "Number of Observations Used    17999.000000\n",
      "Critical Value (1%)               -3.430713\n",
      "Critical Value (5%)               -2.861701\n",
      "Critical Value (10%)              -2.566855\n",
      "dtype: float64\n",
      "Reject Ho - Time Series is Stationary\n",
      "[0, 0, 0, 0, 0, 0, 0, 0, 0, 0, 0, 0, 0, 0, 0, 0, 0, 0]\n",
      "['M1HP1', 'M2HP1', 'M3HP1', 'M4HP1', 'M5HP1', 'M6HP1', 'M7HP1', 'M8HP7', 'M9HP48', 'M10HP3', 'M11HP3', 'M12HP7', 'M13HP19', 'FWB', 'OC', 'BBCM', 'allsum', 'Allplant']\n"
     ]
    }
   ],
   "source": [
    "from statsmodels.tsa.stattools import adfuller\n",
    "# We test the dataset using ADFuller Test to see if it has a trend and seasonality\n",
    "def adf_test(timeseries):\n",
    "    #Perform Dickey-Fuller test:\n",
    "    print ('Results of Dickey-Fuller Test:')\n",
    "    dftest = adfuller(timeseries, autolag='AIC')\n",
    "    dfoutput = pd.Series(dftest[0:4], index=['Test Statistic','p-value','#Lags Used','Number of Observations Used'])\n",
    "    for key,value in dftest[4].items():\n",
    "       dfoutput['Critical Value (%s)'%key] = value\n",
    "    print (dfoutput)\n",
    "    \n",
    "    if dftest[0] < dftest[4][\"10%\"]:\n",
    "        print (\"Reject Ho - Time Series is Stationary\")\n",
    "        x = 0\n",
    "    else:\n",
    "        print (\"Failed to Reject Ho - Time Series is Non-Stationary\")\n",
    "        x = 1\n",
    "    \n",
    "    return x\n",
    "\n",
    "df_stat_adfuller = []\n",
    "column = []\n",
    "\n",
    "for col in machine_data.iloc[:,1:].columns:\n",
    "    # print(col)\n",
    "    stat_adfuller = adf_test(machine_data[col])\n",
    "    # print(stat_adfuller)\n",
    "    df_stat_adfuller.append(stat_adfuller)\n",
    "    column.append(col)\n",
    "\n",
    "print(df_stat_adfuller)\n",
    "print(column)\n",
    "\n",
    "df_adf_test = pd.DataFrame(column, columns=['Attributes'])\n",
    "df_adf_test ['Hypothesis'] = pd.DataFrame(df_stat_adfuller)\n",
    "\n",
    "del(df_stat_adfuller)\n",
    "del(column)\n",
    "del(col)\n",
    "del(stat_adfuller)"
   ]
  },
  {
   "cell_type": "code",
   "execution_count": 10,
   "metadata": {},
   "outputs": [],
   "source": [
    "# As we can see that the dataset based on the time series is that it is stationary.\n",
    "# No need to convert our dataset to stationary"
   ]
  },
  {
   "cell_type": "markdown",
   "metadata": {},
   "source": [
    "# Performing correlation analysis"
   ]
  },
  {
   "cell_type": "code",
   "execution_count": 11,
   "metadata": {},
   "outputs": [
    {
     "data": {
      "text/plain": [
       "<AxesSubplot:>"
      ]
     },
     "execution_count": 11,
     "metadata": {},
     "output_type": "execute_result"
    },
    {
     "data": {
      "image/png": "[encoded data removed]",
      "text/plain": [
       "<Figure size 1080x720 with 2 Axes>"
      ]
     },
     "metadata": {},
     "output_type": "display_data"
    }
   ],
   "source": [
    "machine_data_corr = machine_data.iloc[:,1:17]\n",
    "fig, ax = plt.subplots(figsize=(15,10))\n",
    "sns.heatmap(machine_data_corr.corr(), annot = True)\n",
    "#As observed on the heatmap analysis that there is no great correlation between attributes\n",
    "\n",
    "# Following the Correlation Analysis \n",
    "# Exactly –1. A perfect downhill (negative) linear relationship\n",
    "# –0.70. A strong downhill (negative) linear relationship\n",
    "# –0.50. A moderate downhill (negative) relationship\n",
    "# –0.30. A weak downhill (negative) linear relationship\n",
    "# 0. No linear relationship\n",
    "# +0.30. A weak uphill (positive) linear relationship\n",
    "# +0.50. A moderate uphill (positive) relationship\n",
    "# +0.70. A strong uphill (positive) linear relationship\n",
    "# Exactly +1. A perfect uphill (positive) linear relationship\n",
    "\n",
    "# We can determine the strength of the correlation "
   ]
  },
  {
   "cell_type": "markdown",
   "metadata": {},
   "source": [
    "# Pearson Test"
   ]
  },
  {
   "cell_type": "code",
   "execution_count": 12,
   "metadata": {},
   "outputs": [
    {
     "name": "stdout",
     "output_type": "stream",
     "text": [
      "Probably independent\n",
      "Probably independent\n",
      "Probably dependent\n",
      "Probably dependent\n",
      "Probably dependent\n",
      "Probably dependent\n",
      "Probably dependent\n",
      "Probably dependent\n",
      "Probably dependent\n",
      "Probably dependent\n",
      "Probably dependent\n",
      "Probably dependent\n",
      "Probably dependent\n",
      "Probably dependent\n",
      "Probably dependent\n",
      "Probably dependent\n",
      "Probably independent\n"
     ]
    }
   ],
   "source": [
    "# Independent Test of Attributes with respect to All Sum\n",
    "df_pearsonr = []\n",
    "column = []\n",
    "status = []\n",
    "\n",
    "tmp_machine_data =  machine_data.iloc[:,1:]\n",
    "tmp_machine_data = tmp_machine_data.loc[:,tmp_machine_data.columns!='allsum']\n",
    "\n",
    "from scipy.stats import pearsonr\n",
    "for col in tmp_machine_data.columns:\n",
    "    stat, p = pearsonr(machine_data[col], machine_data['allsum'])\n",
    "    if p > 0.05:\n",
    "        print('Probably independent')\n",
    "        x = 0\n",
    "    else:\n",
    "        print('Probably dependent')\n",
    "        x = 1\n",
    "    column.append(col)\n",
    "    status.append(x)\n",
    "\n",
    "        \n",
    "df_pearsonr = pd.DataFrame(column, columns = ['Attributes'])\n",
    "df_pearsonr['Status'] = pd.DataFrame(status)\n",
    "df_pearsonr['Status'] = pd.DataFrame(np.where(df_pearsonr['Status']==0, \"Probably independent\", \"Probably dependent\"))\n",
    "\n",
    "del(tmp_machine_data)\n",
    "del(column)\n",
    "del(status)\n",
    "del(col)\n",
    "del(x)"
   ]
  },
  {
   "cell_type": "code",
   "execution_count": 13,
   "metadata": {},
   "outputs": [
    {
     "name": "stdout",
     "output_type": "stream",
     "text": [
      "   Attributes                Status\n",
      "0       M1HP1  Probably independent\n",
      "1       M2HP1  Probably independent\n",
      "2       M3HP1    Probably dependent\n",
      "3       M4HP1    Probably dependent\n",
      "4       M5HP1    Probably dependent\n",
      "5       M6HP1    Probably dependent\n",
      "6       M7HP1    Probably dependent\n",
      "7       M8HP7    Probably dependent\n",
      "8      M9HP48    Probably dependent\n",
      "9      M10HP3    Probably dependent\n",
      "10     M11HP3    Probably dependent\n",
      "11     M12HP7    Probably dependent\n",
      "12    M13HP19    Probably dependent\n",
      "13        FWB    Probably dependent\n",
      "14         OC    Probably dependent\n",
      "15       BBCM    Probably dependent\n",
      "16   Allplant  Probably independent\n"
     ]
    }
   ],
   "source": [
    "print(df_pearsonr)"
   ]
  },
  {
   "cell_type": "code",
   "execution_count": 14,
   "metadata": {},
   "outputs": [],
   "source": [
    "# As we can observe that there is high dependecy of Machine Monitoring Attributes with All Sum\n",
    "# Its been recommended that its better to manually forecast each attributr then do the summation"
   ]
  },
  {
   "cell_type": "code",
   "execution_count": 15,
   "metadata": {},
   "outputs": [
    {
     "name": "stdout",
     "output_type": "stream",
     "text": [
      "Probably independent\n",
      "Probably independent\n",
      "Probably independent\n",
      "Probably independent\n",
      "Probably independent\n",
      "Probably independent\n",
      "Probably independent\n",
      "Probably independent\n",
      "Probably dependent\n",
      "Probably dependent\n",
      "Probably dependent\n",
      "Probably independent\n",
      "Probably independent\n",
      "Probably independent\n",
      "Probably independent\n",
      "Probably independent\n",
      "Probably independent\n"
     ]
    }
   ],
   "source": [
    "# Independent Test with respect to All Plant\n",
    "tmp_machine_data =  machine_data.iloc[:,1:]\n",
    "tmp_machine_data = tmp_machine_data.loc[:,tmp_machine_data.columns!='Allplant']\n",
    "column = []\n",
    "status = []\n",
    "\n",
    "from scipy.stats import pearsonr\n",
    "for col in tmp_machine_data.columns:\n",
    "    stat, p = pearsonr(machine_data[col], machine_data['Allplant'])\n",
    "    if p > 0.05:\n",
    "        print('Probably independent')\n",
    "        x = 0\n",
    "    else:\n",
    "        print('Probably dependent')\n",
    "        x = 1\n",
    "    column.append(col)\n",
    "    status.append(x)\n",
    "\n",
    "        \n",
    "df_pearsonr_AllPlant = pd.DataFrame(column, columns = ['Attributes'])\n",
    "df_pearsonr_AllPlant['Status'] = pd.DataFrame(status)\n",
    "df_pearsonr_AllPlant['Status'] = pd.DataFrame(np.where(df_pearsonr_AllPlant['Status']==0, \"Probably independent\", \"Probably dependent\"))\n",
    "\n",
    "del(tmp_machine_data)\n",
    "del(column)\n",
    "del(status)\n",
    "del(col)\n",
    "del(x)"
   ]
  },
  {
   "cell_type": "code",
   "execution_count": 16,
   "metadata": {},
   "outputs": [
    {
     "name": "stdout",
     "output_type": "stream",
     "text": [
      "   Attributes                Status\n",
      "0       M1HP1  Probably independent\n",
      "1       M2HP1  Probably independent\n",
      "2       M3HP1  Probably independent\n",
      "3       M4HP1  Probably independent\n",
      "4       M5HP1  Probably independent\n",
      "5       M6HP1  Probably independent\n",
      "6       M7HP1  Probably independent\n",
      "7       M8HP7  Probably independent\n",
      "8      M9HP48    Probably dependent\n",
      "9      M10HP3    Probably dependent\n",
      "10     M11HP3    Probably dependent\n",
      "11     M12HP7  Probably independent\n",
      "12    M13HP19  Probably independent\n",
      "13        FWB  Probably independent\n",
      "14         OC  Probably independent\n",
      "15       BBCM  Probably independent\n",
      "16     allsum  Probably independent\n"
     ]
    }
   ],
   "source": [
    "print(df_pearsonr_AllPlant)"
   ]
  },
  {
   "cell_type": "code",
   "execution_count": 17,
   "metadata": {},
   "outputs": [],
   "source": [
    "# We can observed that almost machine monitoring attributes are independent to All Plant\n",
    "# We can forecast all plant independently"
   ]
  },
  {
   "cell_type": "markdown",
   "metadata": {},
   "source": [
    "# Using Auto Regression to Forecast Machine Performance"
   ]
  },
  {
   "cell_type": "code",
   "execution_count": 18,
   "metadata": {},
   "outputs": [],
   "source": [
    "from statsmodels.tsa.ar_model import AutoReg\n",
    "\n",
    "def mean_absolute_percentage_error(y_true, y_pred): \n",
    "    mape = np.mean(np.abs((y_true - y_pred)/y_true))*100\n",
    "    return mape"
   ]
  },
  {
   "cell_type": "code",
   "execution_count": 19,
   "metadata": {},
   "outputs": [],
   "source": [
    "# Group the machine sensor reading every 10 Seconds\n",
    "machine_data[\"DATETIME\"] = pd.to_datetime(machine_data[\"Timestamp\"])\n",
    "machine_data.set_index(\"DATETIME\", inplace=True)\n",
    "\n",
    "machine_data_grp = machine_data.resample('10S').mean().iloc[:,:18]"
   ]
  },
  {
   "cell_type": "code",
   "execution_count": 20,
   "metadata": {},
   "outputs": [],
   "source": [
    "# Split the train and test dataset\n",
    "label_var = int(len(machine_data_grp) * 0.75)\n",
    "\n",
    "machine_data_train = machine_data_grp.iloc[:label_var,:]\n",
    "machine_data_test = machine_data_grp.iloc[label_var:,:]\n",
    "\n",
    "machine_data_train_allsum = machine_data_train.loc[:,machine_data_train.columns=='allsum']\n",
    "machine_data_test_allsum = machine_data_test.loc[:,machine_data_test.columns=='allsum']"
   ]
  },
  {
   "cell_type": "code",
   "execution_count": 21,
   "metadata": {},
   "outputs": [
    {
     "name": "stderr",
     "output_type": "stream",
     "text": [
      "C:\\Users\\ASHNER_NOVILLA\\anaconda3\\envs\\datascience\\lib\\site-packages\\statsmodels\\tsa\\ar_model.py:252: FutureWarning: The parameter names will change after 0.12 is released. Set old_names to False to use the new names now. Set old_names to True to use the old names. \n",
      "  FutureWarning,\n"
     ]
    },
    {
     "data": {
      "text/plain": [
       "0.7950414110568014"
      ]
     },
     "execution_count": 21,
     "metadata": {},
     "output_type": "execute_result"
    },
    {
     "data": {
      "image/png": "[encoded data removed]",
      "text/plain": [
       "<Figure size 432x288 with 1 Axes>"
      ]
     },
     "metadata": {},
     "output_type": "display_data"
    }
   ],
   "source": [
    "# All Sum Auto Regression\n",
    "# Lags of 3600 was used because a period of 1hour is considered\n",
    "AutoReg_model_Allsum = AutoReg(machine_data_train_allsum['allsum'], lags=3600)\n",
    "AutoReg_model_Allsum_fit = AutoReg_model_Allsum.fit()\n",
    "\n",
    "AutoReg_Allsum_yhat = AutoReg_model_Allsum_fit.predict(len(machine_data_train_allsum['allsum']), len(machine_data_train_allsum['allsum'])+len(machine_data_test_allsum['allsum'])-1)\n",
    "\n",
    "AutoReg_Allsum_yhat = pd.DataFrame(AutoReg_Allsum_yhat, columns=['allsum_predict'])\n",
    "\n",
    "AutoReg_machine_data_allsum = machine_data_test_allsum.copy()\n",
    "AutoReg_machine_data_allsum['allsum_predict'] = AutoReg_Allsum_yhat['allsum_predict']\n",
    "\n",
    "AutoReg_machine_data_allsum.plot()\n",
    "\n",
    "mean_absolute_percentage_error(AutoReg_machine_data_allsum['allsum_predict'], AutoReg_machine_data_allsum['allsum'])"
   ]
  },
  {
   "cell_type": "code",
   "execution_count": null,
   "metadata": {},
   "outputs": [],
   "source": [
    "# As observed that the MAPE is around 0.79% which is a good indication of forecast\n",
    "# Distribution of the forecast is not saturated to a singular number which is also a \n",
    "# good indication that the forecast is not overfitted"
   ]
  },
  {
   "cell_type": "code",
   "execution_count": 22,
   "metadata": {},
   "outputs": [
    {
     "name": "stderr",
     "output_type": "stream",
     "text": [
      "C:\\Users\\ASHNER_NOVILLA\\anaconda3\\envs\\datascience\\lib\\site-packages\\statsmodels\\tsa\\ar_model.py:252: FutureWarning: The parameter names will change after 0.12 is released. Set old_names to False to use the new names now. Set old_names to True to use the old names. \n",
      "  FutureWarning,\n"
     ]
    },
    {
     "data": {
      "text/plain": [
       "2.7603532573371115"
      ]
     },
     "execution_count": 22,
     "metadata": {},
     "output_type": "execute_result"
    },
    {
     "data": {
      "image/png": "[encoded data removed]",
      "text/plain": [
       "<Figure size 432x288 with 1 Axes>"
      ]
     },
     "metadata": {},
     "output_type": "display_data"
    }
   ],
   "source": [
    "# All Plant Auto Regression\n",
    "machine_data_train_allplant = machine_data_train.loc[:,machine_data_train.columns=='Allplant']\n",
    "machine_data_test_allplant = machine_data_test.loc[:,machine_data_test.columns=='Allplant']\n",
    "\n",
    "AutoReg_model_Allplant = AutoReg(machine_data_train_allplant['Allplant'], lags=3600)\n",
    "AutoReg_model_Allplant_fit = AutoReg_model_Allplant.fit()\n",
    "\n",
    "AutoReg_Allplant_yhat = AutoReg_model_Allplant_fit.predict(len(machine_data_train_allplant['Allplant']), len(machine_data_train_allplant['Allplant'])+len(machine_data_test_allplant['Allplant'])-1)\n",
    "\n",
    "AutoReg_Allplant_yhat = pd.DataFrame(AutoReg_Allplant_yhat, columns=['allplant_predict'])\n",
    "\n",
    "AutoReg_machine_data_allplant = machine_data_test_allplant.copy()\n",
    "AutoReg_machine_data_allplant['allplant_predict'] = AutoReg_Allplant_yhat['allplant_predict']\n",
    "\n",
    "AutoReg_machine_data_allplant.plot()\n",
    "\n",
    "mean_absolute_percentage_error(AutoReg_machine_data_allplant['allplant_predict'], AutoReg_machine_data_allplant['Allplant'])"
   ]
  },
  {
   "cell_type": "code",
   "execution_count": 23,
   "metadata": {},
   "outputs": [],
   "source": [
    "# As observed that the MAPE is around 2.76% which is a good indication of forecast\n",
    "# Distribution of the forecast is not saturated to a singular number which is also a \n",
    "# good indication that the forecast is not overfitted"
   ]
  },
  {
   "cell_type": "markdown",
   "metadata": {},
   "source": [
    "# Convert the data from unsupervised dataset to supervised dataset\n"
   ]
  },
  {
   "cell_type": "code",
   "execution_count": 24,
   "metadata": {},
   "outputs": [],
   "source": [
    "# Setting the target to mean + 3sigma for upper limit for each attributes\n",
    "# Setting the target to mean - 3sigma for lower limit for each attribites\n"
   ]
  },
  {
   "cell_type": "code",
   "execution_count": 25,
   "metadata": {},
   "outputs": [
    {
     "name": "stdout",
     "output_type": "stream",
     "text": [
      "2.2089599313222403\n",
      "2.2089599313222403\n"
     ]
    }
   ],
   "source": [
    "# Parameters Limit\n",
    "machine_data_mean = []\n",
    "machine_data_std = []\n",
    "attributes = []\n",
    "\n",
    "for col in machine_data_grp.columns:\n",
    "    mean = machine_data_test[col].mean()\n",
    "    std = machine_data_test[col].std()\n",
    "    machine_data_mean.append(mean)\n",
    "    machine_data_std.append(std)\n",
    "    attributes.append(col)\n",
    "\n",
    "machine_data_limits = pd.DataFrame(attributes, columns = ['Attributes'])\n",
    "machine_data_limits['UL'] = pd.DataFrame(machine_data_mean + machine_data_std)\n",
    "machine_data_limits['LL'] = pd.DataFrame(np.array(machine_data_mean) - np.array(machine_data_std))\n",
    "\n",
    "del(machine_data_mean)\n",
    "del(machine_data_std)\n",
    "del(attributes)\n",
    "\n",
    "print(machine_data_limits.loc[0,'UL'])\n",
    "print(machine_data_limits.iloc[0]['UL'])"
   ]
  },
  {
   "cell_type": "code",
   "execution_count": 26,
   "metadata": {},
   "outputs": [
    {
     "name": "stdout",
     "output_type": "stream",
     "text": [
      "   Attributes          UL          LL\n",
      "0       M1HP1    2.208960    2.168508\n",
      "1       M2HP1    2.208300    2.168712\n",
      "2       M3HP1    2.208230    2.168298\n",
      "3       M4HP1    2.208008    2.167876\n",
      "4       M5HP1    2.208045    2.167581\n",
      "5       M6HP1    2.206960    2.166997\n",
      "6       M7HP1    2.207354    2.166761\n",
      "7       M8HP7   15.596182   15.300074\n",
      "8      M9HP48  107.078272  105.086375\n",
      "9      M10HP3    6.678820    6.558231\n",
      "10     M11HP3    6.682185    6.560614\n",
      "11     M12HP7   15.587140   15.293708\n",
      "12    M13HP19   42.349458   41.562774\n",
      "13        FWB   17.921264   17.593989\n",
      "14         OC   59.792390   58.674396\n",
      "15       BBCM    2.987405    2.932031\n",
      "16     allsum  290.128974  287.612773\n",
      "17   Allplant  290.691977  282.319047\n"
     ]
    }
   ],
   "source": [
    "print(machine_data_limits)\n",
    "# Observed is the limits got from \n",
    "# Setting the target to mean + 3sigma for upper limit for each attributes\n",
    "# Setting the target to mean - 3sigma for lower limit for each attribites"
   ]
  },
  {
   "cell_type": "code",
   "execution_count": 27,
   "metadata": {},
   "outputs": [],
   "source": [
    "#1 Fail\n",
    "#0 Pass\n",
    "\n",
    "# Applying semi supervised model after getting the limits\n",
    "\n",
    "# We get the forecast data for the next 100 points\n",
    "# If we need more prediction change the points_predict to the desired points to be predicted minus 1"
   ]
  },
  {
   "cell_type": "code",
   "execution_count": 28,
   "metadata": {},
   "outputs": [],
   "source": [
    "points_predict = 99"
   ]
  },
  {
   "cell_type": "code",
   "execution_count": 29,
   "metadata": {},
   "outputs": [],
   "source": [
    "AutoReg_Allsum_forecast = pd.DataFrame(AutoReg_model_Allsum_fit.predict(len(machine_data_train_allsum['allsum']), \n",
    "                                                           len(machine_data_train_allsum['allsum'])+len(machine_data_test_allsum['allsum'])+points_predict), columns=['AllSum_Forecasted'])\n",
    "AutoReg_Allsum_forecast = AutoReg_Allsum_forecast.iloc[int(len(AutoReg_Allsum_yhat)):,:]\n"
   ]
  },
  {
   "cell_type": "code",
   "execution_count": 30,
   "metadata": {},
   "outputs": [],
   "source": [
    "AutoReg_Allplant_forecast = pd.DataFrame(AutoReg_model_Allplant_fit.predict(len(machine_data_train_allplant['Allplant']), \n",
    "                                                               len(machine_data_train_allplant['Allplant'])+len(machine_data_test_allplant['Allplant'])+points_predict), columns=['Allplant_Forecasted'])\n",
    "AutoReg_Allplant_forecast = AutoReg_Allplant_forecast.iloc[int(len(AutoReg_Allplant_yhat)):,:]\n"
   ]
  },
  {
   "cell_type": "code",
   "execution_count": 31,
   "metadata": {},
   "outputs": [
    {
     "data": {
      "text/plain": [
       "count    100.000000\n",
       "mean     290.093919\n",
       "std        1.086701\n",
       "min      287.391550\n",
       "25%      289.256798\n",
       "50%      290.177557\n",
       "75%      290.839176\n",
       "max      292.726959\n",
       "Name: AllSum_Forecasted, dtype: float64"
      ]
     },
     "execution_count": 31,
     "metadata": {},
     "output_type": "execute_result"
    }
   ],
   "source": [
    "AutoReg_Allsum_forecast['result'] = np.where((AutoReg_Allsum_forecast > machine_data_limits.loc[16,'UL']) | (AutoReg_Allsum_forecast < machine_data_limits.loc[16,'LL']),1,0)\n",
    "\n",
    "AutoReg_Allsum_forecast['AllSum_Forecasted'].describe()"
   ]
  },
  {
   "cell_type": "code",
   "execution_count": 32,
   "metadata": {},
   "outputs": [
    {
     "data": {
      "text/plain": [
       "1    53\n",
       "0    47\n",
       "Name: result, dtype: int64"
      ]
     },
     "execution_count": 32,
     "metadata": {},
     "output_type": "execute_result"
    }
   ],
   "source": [
    "#Checking how many pass and how many fail\n",
    "AutoReg_Allsum_forecast['result'].value_counts()"
   ]
  },
  {
   "cell_type": "code",
   "execution_count": 33,
   "metadata": {},
   "outputs": [],
   "source": [
    "# So we can say that after forecasting of 100 points there is a chance that 53/100 will fail \n",
    "# and only 47/100 will pass when the limit is set to mean + 3sigma for upper limit for each attributes\n",
    "# and to mean - 3sigma for lower limit for each attribites."
   ]
  },
  {
   "cell_type": "code",
   "execution_count": 34,
   "metadata": {},
   "outputs": [
    {
     "data": {
      "text/plain": [
       "count    100.000000\n",
       "mean     290.389231\n",
       "std        3.600285\n",
       "min      281.143802\n",
       "25%      288.173775\n",
       "50%      290.829102\n",
       "75%      292.660483\n",
       "max      298.208948\n",
       "Name: Allplant_Forecasted, dtype: float64"
      ]
     },
     "execution_count": 34,
     "metadata": {},
     "output_type": "execute_result"
    }
   ],
   "source": [
    "AutoReg_Allplant_forecast['result'] = np.where((AutoReg_Allplant_forecast > machine_data_limits.loc[17,'UL']) | (AutoReg_Allplant_forecast < machine_data_limits.loc[17,'LL']),1,0)\n",
    "\n",
    "AutoReg_Allplant_forecast['Allplant_Forecasted'].describe()"
   ]
  },
  {
   "cell_type": "code",
   "execution_count": 35,
   "metadata": {},
   "outputs": [
    {
     "data": {
      "text/plain": [
       "1    54\n",
       "0    46\n",
       "Name: result, dtype: int64"
      ]
     },
     "execution_count": 35,
     "metadata": {},
     "output_type": "execute_result"
    }
   ],
   "source": [
    "#Checking how many pass and how many fail\n",
    "AutoReg_Allplant_forecast['result'].value_counts()"
   ]
  },
  {
   "cell_type": "code",
   "execution_count": 36,
   "metadata": {},
   "outputs": [],
   "source": [
    "# So we can say that after forecasting of 100 points there is a chance that 54/100 will fail \n",
    "# and only 46/100 will pass when the limit is set to mean + 3sigma for upper limit for each attributes\n",
    "# and to mean - 3sigma for lower limit for each attribites"
   ]
  }
 ],
 "metadata": {
  "kernelspec": {
   "display_name": "Python 3",
   "language": "python",
   "name": "python3"
  },
  "language_info": {
   "codemirror_mode": {
    "name": "ipython",
    "version": 3
   },
   "file_extension": ".py",
   "mimetype": "text/x-python",
   "name": "python",
   "nbconvert_exporter": "python",
   "pygments_lexer": "ipython3",
   "version": "3.7.1"
  }
 },
 "nbformat": 4,
 "nbformat_minor": 4
}
